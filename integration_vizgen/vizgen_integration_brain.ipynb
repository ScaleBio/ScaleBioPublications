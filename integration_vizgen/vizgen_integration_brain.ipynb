{
 "cells": [
  {
   "cell_type": "markdown",
   "metadata": {
    "vscode": {
     "languageId": "r"
    }
   },
   "source": [
    "## Integration of ScaleBio Single-Cell RNA-Seq data and Vizgen Merscope Spatial Transcriptomics Data"
   ]
  },
  {
   "cell_type": "markdown",
   "metadata": {},
   "source": [
    "This notebook performs a workflow for integrating ScaleBio scRNA-seq data with Vizgen spatial transcriptomics data, including data normalization, dimensionality reduction, clustering, and data transfer between the two datasets. Each step is commented to clarify its purpose and function within the analysis. This analysis was adapted from the following tutorial found on the Seurat website. \n",
    "\n",
    "https://satijalab.org/seurat/articles/spatial_vignette.html"
   ]
  },
  {
   "cell_type": "markdown",
   "metadata": {},
   "source": [
    "This chunk defines the variables for the paths to the matrix files for the ScaleBio data."
   ]
  },
  {
   "cell_type": "code",
   "execution_count": 1,
   "metadata": {
    "vscode": {
     "languageId": "r"
    }
   },
   "outputs": [],
   "source": [
    "scale_mtx_path <- \"/path/to/ScaleBio/matrix.mtx\"\n",
    "scale_feature_path <- \"/path/to/ScaleBio/features.tsv\"\n",
    "scale_barcode_path <- \"/path/to/ScaleBio/barcodes.csv\""
   ]
  },
  {
   "cell_type": "markdown",
   "metadata": {},
   "source": [
    "This chunk defines the variables to the input data for the Vizgen Merscope data."
   ]
  },
  {
   "cell_type": "code",
   "execution_count": 2,
   "metadata": {
    "vscode": {
     "languageId": "r"
    }
   },
   "outputs": [],
   "source": [
    "vizgen_data_dir <- \"/path/to/vizgen/data/directory\"\n",
    "vizgen_transcript_counts <- \"/path/to/vizgen/cellpose_cell_by_gene.csv\"\n",
    "vizgen_spatial_meta_data <- \"/path/to/vizgen/cellpose_cell_metadata.csv\""
   ]
  },
  {
   "cell_type": "markdown",
   "metadata": {
    "vscode": {
     "languageId": "r"
    }
   },
   "source": [
    "This chunk loads the necesarry packages and defines a custom function for loading the Vizgen Merscope data into a Seurat Object."
   ]
  },
  {
   "cell_type": "code",
   "execution_count": null,
   "metadata": {
    "vscode": {
     "languageId": "r"
    }
   },
   "outputs": [],
   "source": [
    "library(Seurat)           \n",
    "library(SeuratObject)     \n",
    "\n",
    "# Custom function to load Vizgen data into a Seurat object.\n",
    "LoadVizgenCustom <- function(data, fov, assay = 'Spatial', z = 3L) {\n",
    "  cents <- CreateCentroids(data$centroids)  # Create centroids from spatial data.\n",
    "  segmentations.data <- list(\n",
    "    \"centroids\" = cents  # Store centroids in a list for segmentation data.\n",
    "  )\n",
    "  coords <- CreateFOV(\n",
    "    coords = segmentations.data,\n",
    "    type = c(\"centroids\"),\n",
    "    molecules = data$microns,\n",
    "    assay = assay\n",
    "  )\n",
    "  # Create a Seurat object using the transcript count data and metadata.\n",
    "  obj <- CreateSeuratObject(counts = data$transcripts, assay = assay, meta.data = data$metadata)\n",
    "  # Add coordinates to the Seurat object.\n",
    "  obj[[fov]] <- coords\n",
    "  return(obj)\n",
    "}"
   ]
  },
  {
   "cell_type": "markdown",
   "metadata": {},
   "source": [
    "This chunk performs the analysis of the single-cell RNA seq data from ScaleBio."
   ]
  },
  {
   "cell_type": "code",
   "execution_count": null,
   "metadata": {
    "vscode": {
     "languageId": "r"
    }
   },
   "outputs": [],
   "source": [
    "# Load the ScaleBio scRNA-seq data\n",
    "mtx <- ReadMtx(\n",
    "    mtx = scale_mtx_path,\n",
    "    features = scale_feature_path,\n",
    "    cells = scale_barcode_path\n",
    ")\n",
    "\n",
    "# Create a Seurat object\n",
    "scrna <- CreateSeuratObject(mtx)\n",
    "\n",
    "# Normalize and scale the data using SCTransform\n",
    "scrna <- SCTransform(scrna, ncells = 3000, conserve.memory = TRUE)\n",
    "\n",
    "# Perform Principal Component Analysis (PCA)\n",
    "scrna <- RunPCA(scrna, features = VariableFeatures(object = scrna))\n",
    "\n",
    "# Find the nearest neighbors\n",
    "scrna <- FindNeighbors(scrna, dims = 1:15)\n",
    "\n",
    "# Cluster the cells\n",
    "scrna <- FindClusters(scrna, resolution = 0.1)\n",
    "\n",
    "# Run UMAP for dimensionality reduction to visualize the clusters in 2D space.\n",
    "scrna <- RunUMAP(scrna, dims = 1:15, verbose = F)\n"
   ]
  },
  {
   "cell_type": "markdown",
   "metadata": {},
   "source": [
    "Visualization of the ScaleBio single-cell RNA-seq data."
   ]
  },
  {
   "cell_type": "code",
   "execution_count": null,
   "metadata": {
    "vscode": {
     "languageId": "r"
    }
   },
   "outputs": [],
   "source": [
    "UMAPPlot(object = scrna)"
   ]
  },
  {
   "cell_type": "markdown",
   "metadata": {},
   "source": [
    "This chunk performs analysis of the Vizgen Merscope spatial data."
   ]
  },
  {
   "cell_type": "code",
   "execution_count": null,
   "metadata": {
    "vscode": {
     "languageId": "r"
    }
   },
   "outputs": [],
   "source": [
    "vizgen <- ReadVizgen(\n",
    "    data.dir=vizgen_data_dir, \n",
    "    transcripts=vizgen_transcript_counts, \n",
    "    spatial=vizgen_spatial_meta_data, \n",
    "    molecules=NA,\n",
    "    type=\"centroids\", \n",
    "    metadata=\"volume\", \n",
    "    filter = \"^Blank-\",\n",
    ")\n",
    "\n",
    "# Load the Vizgen spatial transcriptomics data using the custom function.\n",
    "vizgen <- LoadVizgenCustom(vizgen, \"slice1\")\n",
    "\n",
    "# Filter the Vizgen data\n",
    "vizgen <- subset(vizgen, subset = nCount_Spatial > 50 & nCount_Spatial < 3000 & volume < 2500 & volume > 100)\n",
    "\n",
    "# Calculate the total counts for each gene\n",
    "gene_sums <- rowSums(vizgen@assays$Spatial$counts)\n",
    "\n",
    "# Get all gene names from the Vizgen data.\n",
    "all.genes <- row.names(vizgen)\n",
    "\n",
    "# Normalize and scale the Vizgen data using SCTransform.\n",
    "vizgen <- SCTransform(vizgen, assay = \"Spatial\", clip.range = c(-10,10))\n",
    "\n",
    "# Perform PCA\n",
    "vizgen <- RunPCA(vizgen, features = all.genes, verbose = F)\n",
    "\n",
    "# Find the nearest neighbors\n",
    "vizgen <- FindNeighbors(vizgen, dims = 1:15)\n",
    "\n",
    "# Cluster the cells\n",
    "vizgen <- FindClusters(vizgen, resolution = 0.1)\n",
    "\n",
    "# Run UMAP for dimensionality reduction to visualize the clusters.\n",
    "vizgen <- RunUMAP(vizgen, dims = 1:15, verbose = F)"
   ]
  },
  {
   "cell_type": "markdown",
   "metadata": {},
   "source": [
    "Visualization of the Vizgen Merscope Data"
   ]
  },
  {
   "cell_type": "code",
   "execution_count": null,
   "metadata": {
    "vscode": {
     "languageId": "r"
    }
   },
   "outputs": [],
   "source": [
    "UMAPPlot(object = vizgen)"
   ]
  },
  {
   "cell_type": "markdown",
   "metadata": {},
   "source": [
    "This chunk performs integration of the ScaleBio single-cell RNA Seq data and the Vizgen Merscope spatial transcriptomic data."
   ]
  },
  {
   "cell_type": "code",
   "execution_count": null,
   "metadata": {
    "vscode": {
     "languageId": "r"
    }
   },
   "outputs": [],
   "source": [
    "# Add a new metadata column with the log-transformed UMI count for each cell.\n",
    "vizgen@meta.data['log_umi'] <- log10(vizgen$nCount_Spatial)\n",
    "\n",
    "# Identify genes shared between the Vizgen and scRNA-seq datasets.\n",
    "sharedGenes <- intersect(row.names(vizgen), row.names(scrna))\n",
    "\n",
    "# Find anchors for data integration between the scRNA-seq and Vizgen datasets using shared genes.\n",
    "anchors <- FindTransferAnchors(reference = scrna, query = vizgen, normalization.method = \"SCT\", features = sharedGenes, reduction = 'cca')\n",
    "\n",
    "# Transfer cell type predictions from the scRNA-seq data to the Vizgen data.\n",
    "predictions_1 <- TransferData(\n",
    "    anchorset = anchors,\n",
    "    refdata = Idents(scrna),\n",
    "    weight.reduction = 'cca'\n",
    ")\n",
    "\n",
    "# Add the cell type predictions as metadata to the Vizgen object.\n",
    "vizgen <- AddMetaData(object = vizgen, metadata = predictions_1)\n",
    "\n",
    "# Transfer the RNA expression profiles from the scRNA-seq data to the Vizgen data.\n",
    "vizgen$projRNA <- TransferData(\n",
    "    anchorset = anchors, \n",
    "    reference = scrna,\n",
    "    refdata = \"SCT\", \n",
    "    weight.reduction = 'cca'\n",
    ")\n",
    "\n",
    "# Set the default assay in the Vizgen object to the projected RNA data.\n",
    "DefaultAssay(vizgen) <- \"projRNA\"\n",
    "\n",
    "# Switch the default assay back to the original Spatial data.\n",
    "DefaultAssay(vizgen) <- \"Spatial\""
   ]
  },
  {
   "cell_type": "markdown",
   "metadata": {},
   "source": [
    "Visualization of the integrated data sets."
   ]
  },
  {
   "cell_type": "code",
   "execution_count": null,
   "metadata": {
    "vscode": {
     "languageId": "r"
    }
   },
   "outputs": [],
   "source": [
    "UMAPPlot(object = vizgen, group.by = \"predicted.id\")"
   ]
  },
  {
   "cell_type": "markdown",
   "metadata": {},
   "source": [
    "Save ScaleBio single-cell RNA-Seq data analysis"
   ]
  },
  {
   "cell_type": "code",
   "execution_count": 13,
   "metadata": {
    "vscode": {
     "languageId": "r"
    }
   },
   "outputs": [],
   "source": [
    "saveRDS(object = scrna, file = \"scale_data.rds\")"
   ]
  },
  {
   "cell_type": "markdown",
   "metadata": {},
   "source": [
    "Save integrated Vizgen spatial transcriptomic data"
   ]
  },
  {
   "cell_type": "code",
   "execution_count": null,
   "metadata": {
    "vscode": {
     "languageId": "r"
    }
   },
   "outputs": [],
   "source": [
    "saveRDS(object = vizgen, file = \"vizgen_data.rds\")"
   ]
  }
 ],
 "metadata": {
  "kernelspec": {
   "display_name": "R",
   "language": "R",
   "name": "ir"
  },
  "language_info": {
   "codemirror_mode": "r",
   "file_extension": ".r",
   "mimetype": "text/x-r-source",
   "name": "R",
   "pygments_lexer": "r",
   "version": "4.3.3"
  }
 },
 "nbformat": 4,
 "nbformat_minor": 2
}
